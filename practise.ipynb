{
 "cells": [
  {
   "cell_type": "markdown",
   "metadata": {},
   "source": [
    "# python practise started 1/02/2021"
   ]
  },
  {
   "cell_type": "code",
   "execution_count": 1,
   "metadata": {
    "scrolled": true
   },
   "outputs": [
    {
     "name": "stdout",
     "output_type": "stream",
     "text": [
      "hello world\n"
     ]
    }
   ],
   "source": [
    "print(\"hello world\")"
   ]
  },
  {
   "cell_type": "code",
   "execution_count": 53,
   "metadata": {},
   "outputs": [
    {
     "name": "stdout",
     "output_type": "stream",
     "text": [
      "hello 48.0 <class 'str'> <class 'float'> <class 'float'>\n"
     ]
    }
   ],
   "source": [
    "a = \"hello\"\n",
    "b = 12; c=4.0\n",
    "b=b*c\n",
    "print(a,b,type(a),type(b),type(c))"
   ]
  },
  {
   "cell_type": "code",
   "execution_count": 3,
   "metadata": {},
   "outputs": [
    {
     "name": "stdout",
     "output_type": "stream",
     "text": [
      "hello, world\n"
     ]
    }
   ],
   "source": [
    "print(\"hello, world\")"
   ]
  },
  {
   "cell_type": "code",
   "execution_count": 11,
   "metadata": {},
   "outputs": [
    {
     "name": "stdout",
     "output_type": "stream",
     "text": [
      "50\n"
     ]
    }
   ],
   "source": [
    "\n",
    "my_bro_weight=30+20\n",
    "print(my_bro_weight)"
   ]
  },
  {
   "cell_type": "code",
   "execution_count": 12,
   "metadata": {},
   "outputs": [
    {
     "name": "stdout",
     "output_type": "stream",
     "text": [
      "0\n"
     ]
    }
   ],
   "source": [
    "result=49%7\n",
    "print(result)"
   ]
  },
  {
   "cell_type": "code",
   "execution_count": 13,
   "metadata": {},
   "outputs": [
    {
     "name": "stdout",
     "output_type": "stream",
     "text": [
      "110\n"
     ]
    }
   ],
   "source": [
    "weight=80\n",
    "weight+=30\n",
    "print(weight)"
   ]
  },
  {
   "cell_type": "code",
   "execution_count": 14,
   "metadata": {},
   "outputs": [
    {
     "name": "stdout",
     "output_type": "stream",
     "text": [
      "43\n"
     ]
    }
   ],
   "source": [
    "sum=3+5*8\n",
    "print(sum)"
   ]
  },
  {
   "cell_type": "code",
   "execution_count": 16,
   "metadata": {},
   "outputs": [
    {
     "name": "stdout",
     "output_type": "stream",
     "text": [
      "yes a is less than 15\n"
     ]
    }
   ],
   "source": [
    "a=10\n",
    "if a<=15:\n",
    "    print(\"yes a is less than 15\")"
   ]
  },
  {
   "cell_type": "code",
   "execution_count": 39,
   "metadata": {},
   "outputs": [
    {
     "name": "stdout",
     "output_type": "stream",
     "text": [
      "shehroz\n"
     ]
    }
   ],
   "source": [
    "if name==\"shehroz\":\n",
    "    print(name)"
   ]
  },
  {
   "cell_type": "code",
   "execution_count": 22,
   "metadata": {},
   "outputs": [
    {
     "name": "stdout",
     "output_type": "stream",
     "text": [
      "old man\n"
     ]
    }
   ],
   "source": [
    "age=55\n",
    "if age<=40:\n",
    "    print(\"young man\")\n",
    "else:\n",
    "        print(\"old man\")"
   ]
  },
  {
   "cell_type": "code",
   "execution_count": 41,
   "metadata": {},
   "outputs": [
    {
     "name": "stdout",
     "output_type": "stream",
     "text": [
      "slim man\n"
     ]
    }
   ],
   "source": [
    "weight= 50\n",
    "if weight == 60:\n",
    "    print(\"healthy man\")\n",
    "elif weight <= 60:\n",
    "    print(\"slim man\")\n",
    "else :\n",
    "    print(\"bulky man\")"
   ]
  },
  {
   "cell_type": "code",
   "execution_count": 37,
   "metadata": {},
   "outputs": [
    {
     "name": "stdout",
     "output_type": "stream",
     "text": [
      "sorry you are not good enough\n"
     ]
    }
   ],
   "source": [
    "marks = 450\n",
    "name = \"shehroz\"\n",
    "qual= \"masters\"\n",
    "belong = \"Pakistan\"\n",
    "if marks>= 400 and name==\"shehroz\" and qual==\"bachelors\" and belong == \"Pakistan\":\n",
    "    print(\"Your info is pretty good\")\n",
    "else:\n",
    "    print(\"sorry you are not good enough\")"
   ]
  },
  {
   "cell_type": "code",
   "execution_count": 46,
   "metadata": {},
   "outputs": [
    {
     "name": "stdout",
     "output_type": "stream",
     "text": [
      "shehroz khan\n"
     ]
    }
   ],
   "source": [
    "fn= \"shehroz\"\n",
    "ln=\"khan\"\n",
    "full_name=fn+\" \"+ ln\n",
    "print(full_name)"
   ]
  },
  {
   "cell_type": "code",
   "execution_count": 20,
   "metadata": {},
   "outputs": [],
   "source": [
    "def family_addition(var):\n",
    "    ###Function desc\n",
    "    ##Adding a family member\n",
    "    lsn= ['shehry']#it's a list\n",
    "    lsn.append(var)\n",
    "    print(lsn)\n",
    "    \n",
    "    ###\n",
    "    family_addition(\"Sheroz\")\n",
    "    #print(lsn)"
   ]
  },
  {
   "cell_type": "code",
   "execution_count": 21,
   "metadata": {},
   "outputs": [
    {
     "data": {
      "text/plain": [
       "'fone'"
      ]
     },
     "execution_count": 21,
     "metadata": {},
     "output_type": "execute_result"
    }
   ],
   "source": [
    "ls=['cars','books','toys','fone']\n",
    "ls.pop(3)"
   ]
  },
  {
   "cell_type": "code",
   "execution_count": 9,
   "metadata": {},
   "outputs": [
    {
     "name": "stdout",
     "output_type": "stream",
     "text": [
      "['comp', 'key', 'printer', 'scanner', 'mouse']\n"
     ]
    }
   ],
   "source": [
    "ls_obj=['comp','printer','scanner','mouse']\n",
    "ls_obj.insert(1,'key')\n",
    "print(ls_obj)"
   ]
  },
  {
   "cell_type": "code",
   "execution_count": 18,
   "metadata": {},
   "outputs": [
    {
     "name": "stdout",
     "output_type": "stream",
     "text": [
      "11\n",
      "12\n",
      "13\n",
      "14\n",
      "16\n",
      "17\n",
      "18\n",
      "19\n",
      "21\n",
      "22\n",
      "23\n",
      "24\n",
      "26\n",
      "27\n",
      "28\n",
      "29\n",
      "31\n",
      "32\n",
      "33\n",
      "34\n",
      "36\n",
      "37\n",
      "38\n",
      "39\n",
      "41\n",
      "42\n",
      "43\n",
      "44\n",
      "46\n",
      "47\n",
      "48\n",
      "49\n"
     ]
    }
   ],
   "source": [
    "for i in range(10,50):\n",
    "    if (i % 5!=0):\n",
    "        print(i)"
   ]
  },
  {
   "cell_type": "code",
   "execution_count": 15,
   "metadata": {},
   "outputs": [
    {
     "data": {
      "text/plain": [
       "'malik'"
      ]
     },
     "execution_count": 15,
     "metadata": {},
     "output_type": "execute_result"
    }
   ],
   "source": [
    "fname=['shehroz','shehry']\n",
    "lname=['khan','malik']\n",
    "#ful_name=[]\n",
    "#for first_name in fname:\n",
    "    #for last_name in lname:\n",
    "        #ful_name.append(first_name+ \" \"+ last_name)\n",
    "lname.pop(1)"
   ]
  },
  {
   "cell_type": "code",
   "execution_count": 34,
   "metadata": {},
   "outputs": [
    {
     "name": "stdout",
     "output_type": "stream",
     "text": [
      "Shehroz\n"
     ]
    }
   ],
   "source": [
    "x='shehroz'\n",
    "y = x.title()\n",
    "print(y)"
   ]
  },
  {
   "cell_type": "code",
   "execution_count": null,
   "metadata": {},
   "outputs": [],
   "source": [
    "def read_input():\n",
    "    nm=input('please enter the name')\n",
    "    print(nm) \n",
    "###\n",
    "read_input()\n"
   ]
  },
  {
   "cell_type": "code",
   "execution_count": 14,
   "metadata": {},
   "outputs": [
    {
     "name": "stdout",
     "output_type": "stream",
     "text": [
      "ar\n"
     ]
    }
   ],
   "source": [
    "def nm():\n",
    "    dic={\n",
    "    'zahid':['Shery','Sheroz',\"gula\"],\n",
    "    'Adeel':['azaan','Hasan'],\n",
    "    \"KN\":['ab','ar'] \n",
    "}\n",
    "print(dic['KN'][1])\n",
    "nm()"
   ]
  },
  {
   "cell_type": "code",
   "execution_count": 1,
   "metadata": {},
   "outputs": [],
   "source": [
    "dct=[{\n",
    "    'fn':'shehroz', \n",
    "    'ln':'khan',\n",
    "    'age':'23',\n",
    "    'edu':'bachelors'\n",
    "}]\n",
    "#dct['lgth']='6 feet'\n",
    "\n",
    "#print(dct)\n",
    "\n",
    "#del dct['ln']\n",
    "\n",
    "#print(dct)\n",
    "\n",
    "#for ky, val in dct.items():\n",
    "    #print('the key is'+\" \"+ky,'and the value is'+\" \"+val)\n",
    "#dct1=dct['age']\n",
    "dct1={\n",
    "    'jb':'computer operater',\n",
    "    'pay': 35000\n",
    "}\n",
    "dct.append(dct1)\n",
    "#print(dct1)"
   ]
  },
  {
   "cell_type": "code",
   "execution_count": 7,
   "metadata": {},
   "outputs": [
    {
     "name": "stdout",
     "output_type": "stream",
     "text": [
      "13.5\n",
      "<class 'float'>\n"
     ]
    }
   ],
   "source": [
    "def add_num(num1, num2):\n",
    "    ttl=num1 + num2\n",
    "    print(ttl)\n",
    "    print(type(ttl))\n",
    "add_num(5.6, 7.9)"
   ]
  },
  {
   "cell_type": "code",
   "execution_count": 13,
   "metadata": {},
   "outputs": [
    {
     "name": "stdout",
     "output_type": "stream",
     "text": [
      "first name is shehroz and the last is khan\n"
     ]
    }
   ],
   "source": [
    "\n",
    "def name(fn, ln):\n",
    "    print('first name is',fn,'and the last is',ln)\n",
    "name(fn='shehroz',ln='khan')"
   ]
  },
  {
   "cell_type": "code",
   "execution_count": 20,
   "metadata": {},
   "outputs": [
    {
     "name": "stdout",
     "output_type": "stream",
     "text": [
      "first name is shehroz\n",
      "last name is khan\n",
      "age is 23\n",
      "key is qual and the value is bach\n",
      "key is adrs and the value is hfd\n"
     ]
    }
   ],
   "source": [
    "def info(fn,ln,age,**dnt_know):\n",
    "    print('first name is', fn)\n",
    "    print('last name is', ln)\n",
    "    print('age is', age)\n",
    "    for key,vls in dnt_know.items():\n",
    "        print('key is',key,'and the value is', vls)\n",
    "        \n",
    "info(fn='shehroz', ln='khan', age=23, qual='bach', adrs='hfd')"
   ]
  },
  {
   "cell_type": "code",
   "execution_count": 22,
   "metadata": {},
   "outputs": [
    {
     "name": "stdout",
     "output_type": "stream",
     "text": [
      "1\n",
      "3\n",
      "(5, 7, 9)\n"
     ]
    }
   ],
   "source": [
    "def odd_nm(nm1,nm2,*etc):\n",
    "    print(nm1)\n",
    "    print(nm2)\n",
    "    print(etc)\n",
    "odd_nm(1,3,5,7,9)"
   ]
  },
  {
   "cell_type": "code",
   "execution_count": 28,
   "metadata": {},
   "outputs": [
    {
     "name": "stdout",
     "output_type": "stream",
     "text": [
      "khan\n",
      "khan\n"
     ]
    }
   ],
   "source": [
    "x='shehroz'\n",
    "def gd():\n",
    "    global x\n",
    "    x='khan'\n",
    "    print(x)\n",
    "gd()\n",
    "print(x)"
   ]
  },
  {
   "cell_type": "code",
   "execution_count": null,
   "metadata": {},
   "outputs": [],
   "source": [
    "cty=['hfd','grw','lhr','rwp']\n",
    "usr_inp=''\n",
    "while usr_inp !='q':\n",
    "    usr_inp=input('enter the name:')\n",
    "    if usr_inp !='q':\n",
    "        for cln in cty:\n",
    "            if usr_inp==cln:\n",
    "                print('it is the clean city')\n",
    "                break"
   ]
  },
  {
   "cell_type": "code",
   "execution_count": 1,
   "metadata": {},
   "outputs": [
    {
     "name": "stdout",
     "output_type": "stream",
     "text": [
      "enter the name:q\n"
     ]
    }
   ],
   "source": [
    "cty=['hfd','grw','lhr','rwp']\n",
    "usr_inp=True\n",
    "while usr_inp ==True:\n",
    "    usr_inp=input('enter the name:')\n",
    "    if usr_inp !='q':\n",
    "        for cln in cty:\n",
    "            if usr_inp==cln:\n",
    "                print('it is the clean city')\n",
    "                break\n",
    "else:\n",
    "    usr_inp=False"
   ]
  },
  {
   "cell_type": "code",
   "execution_count": 11,
   "metadata": {},
   "outputs": [
    {
     "ename": "TypeError",
     "evalue": "'str' object is not callable",
     "output_type": "error",
     "traceback": [
      "\u001b[1;31m---------------------------------------------------------------------------\u001b[0m",
      "\u001b[1;31mTypeError\u001b[0m                                 Traceback (most recent call last)",
      "\u001b[1;32m<ipython-input-11-c407f70afff6>\u001b[0m in \u001b[0;36m<module>\u001b[1;34m\u001b[0m\n\u001b[0;32m      7\u001b[0m \u001b[0mpid102\u001b[0m \u001b[1;33m=\u001b[0m \u001b[0mPat\u001b[0m\u001b[1;33m(\u001b[0m\u001b[1;34m'shoaib'\u001b[0m\u001b[1;33m,\u001b[0m \u001b[1;34m'mushtaq'\u001b[0m\u001b[1;33m,\u001b[0m \u001b[1;36m24\u001b[0m\u001b[1;33m)\u001b[0m\u001b[1;33m\u001b[0m\u001b[1;33m\u001b[0m\u001b[0m\n\u001b[0;32m      8\u001b[0m \u001b[0mpid102\u001b[0m\u001b[1;33m.\u001b[0m\u001b[0mfname\u001b[0m\u001b[1;33m=\u001b[0m\u001b[1;34m'matha'\u001b[0m\u001b[1;33m\u001b[0m\u001b[1;33m\u001b[0m\u001b[0m\n\u001b[1;32m----> 9\u001b[1;33m \u001b[0mpid101\u001b[0m\u001b[1;33m.\u001b[0m\u001b[0mlast_name\u001b[0m\u001b[1;33m(\u001b[0m\u001b[1;34m'sesky'\u001b[0m\u001b[1;33m)\u001b[0m\u001b[1;33m\u001b[0m\u001b[1;33m\u001b[0m\u001b[0m\n\u001b[0m\u001b[0;32m     10\u001b[0m \u001b[0mprint\u001b[0m\u001b[1;33m(\u001b[0m\u001b[0mpid101\u001b[0m\u001b[1;33m.\u001b[0m\u001b[0mlast_name\u001b[0m\u001b[1;33m)\u001b[0m\u001b[1;33m\u001b[0m\u001b[1;33m\u001b[0m\u001b[0m\n\u001b[0;32m     11\u001b[0m \u001b[1;31m#def chk_pat(last_name,fname,age):\u001b[0m\u001b[1;33m\u001b[0m\u001b[1;33m\u001b[0m\u001b[1;33m\u001b[0m\u001b[0m\n",
      "\u001b[1;31mTypeError\u001b[0m: 'str' object is not callable"
     ]
    }
   ],
   "source": [
    "class Pat():\n",
    "    def __init__(self, last_name , fname , age):\n",
    "        self.last_name = last_name\n",
    "        self.fname = fname\n",
    "        self.age = age\n",
    "pid101 = Pat('usama', 'khalid', 21)\n",
    "pid102 = Pat('shoaib', 'mushtaq', 24)\n",
    "pid102.fname='matha'\n",
    "pid101.last_name('sesky')\n",
    "print(pid101.last_name)\n",
    "#def chk_pat(last_name,fname,age):\n",
    "        #if age<23:\n",
    "            #print(fname+' '+last_name, \"is citical\")\n",
    "#chk_pat(pid101.last_name,pid101.fname,pid101.age)\n",
    "#pid101.chk_pat()\n",
    "    "
   ]
  },
  {
   "cell_type": "code",
   "execution_count": null,
   "metadata": {},
   "outputs": [],
   "source": [
    "class Animal():\n",
    "\n",
    "    def __init__(self):\n",
    "        self.eyes_color='Black'\n",
    "        self.legs=4\n",
    "        self.name1=input('What is the dog name:')\n",
    "        self.purpose=input('What is the purpose of the dog:')\n",
    "        print('constructor is being called.')\n",
    "#############\n",
    "dog = Animal()   #Calling constructor\n",
    "#cow = Animal()   #Calling constructor\n",
    "#dog.setparameter() #Calling constructor\n",
    "\n",
    "#print('My dog is',dog.name1, 'its color of eyes:',dog.eyes_color,'and it has :',dog.legs,'legs.')"
   ]
  },
  {
   "cell_type": "code",
   "execution_count": 19,
   "metadata": {},
   "outputs": [],
   "source": []
  },
  {
   "cell_type": "code",
   "execution_count": 2,
   "metadata": {},
   "outputs": [
    {
     "name": "stdout",
     "output_type": "stream",
     "text": [
      "please enter the valid email:khanshehroz951@gmail.com\n",
      "password please:········\n",
      "did you type: fxztrueqvbdonlez\n",
      "Error: unable to send email \n",
      " (530, b'5.7.0 Authentication Required. Learn more at\\n5.7.0  https://support.google.com/mail/?p=WantAuthError o129sm4252055wme.21 - gsmtp', 'khanshehroz951@gmail.com')\n"
     ]
    }
   ],
   "source": [
    "import smtplib\n",
    "import getpass\n",
    "smtp_obj = smtplib.SMTP('smtp.gmail.com',587)\n",
    "smtp_obj.ehlo()\n",
    "smtp_obj.starttls()\n",
    "email = input('please enter the valid email:')\n",
    "frm = email\n",
    "to = 'pk_ocp@yahoo.com'\n",
    "sbj = 'Testing python email'\n",
    "bdy = 'Here the first email from python.'\n",
    "pwd = getpass.getpass('password please:')\n",
    "print('did you type:',pwd)\n",
    "try:\n",
    "    smtp_obj.sendmail(frm, to, bdy )\n",
    "    print('mail has been sent, goodluck')\n",
    "except Exception as Ex:\n",
    "    print( \"Error: unable to send email \\n\",Ex)\n",
    "    \n",
    "   \n"
   ]
  },
  {
   "cell_type": "code",
   "execution_count": 23,
   "metadata": {},
   "outputs": [
    {
     "ename": "NameError",
     "evalue": "name 'd' is not defined",
     "output_type": "error",
     "traceback": [
      "\u001b[1;31m---------------------------------------------------------------------------\u001b[0m",
      "\u001b[1;31mNameError\u001b[0m                                 Traceback (most recent call last)",
      "\u001b[1;32m<ipython-input-23-61d3effef88a>\u001b[0m in \u001b[0;36m<module>\u001b[1;34m\u001b[0m\n\u001b[0;32m      5\u001b[0m \u001b[1;33m\u001b[0m\u001b[0m\n\u001b[0;32m      6\u001b[0m     \u001b[0md\u001b[0m\u001b[1;33m=\u001b[0m\u001b[0ma\u001b[0m\u001b[1;33m.\u001b[0m\u001b[0msymmetric_difference\u001b[0m\u001b[1;33m(\u001b[0m\u001b[0mb\u001b[0m\u001b[1;33m)\u001b[0m\u001b[1;33m\u001b[0m\u001b[1;33m\u001b[0m\u001b[0m\n\u001b[1;32m----> 7\u001b[1;33m \u001b[0mprint\u001b[0m\u001b[1;33m(\u001b[0m\u001b[0md\u001b[0m\u001b[1;33m)\u001b[0m\u001b[1;33m\u001b[0m\u001b[1;33m\u001b[0m\u001b[0m\n\u001b[0m\u001b[0;32m      8\u001b[0m \u001b[1;33m\u001b[0m\u001b[0m\n\u001b[0;32m      9\u001b[0m \u001b[0msets\u001b[0m\u001b[1;33m(\u001b[0m\u001b[1;33m)\u001b[0m\u001b[1;33m\u001b[0m\u001b[1;33m\u001b[0m\u001b[0m\n",
      "\u001b[1;31mNameError\u001b[0m: name 'd' is not defined"
     ]
    }
   ],
   "source": [
    "def sets():\n",
    "    b={4,1,'khan',7,5}\n",
    "    a={8,3,6,2,\"Shehroz\",'khan'}\n",
    "    c=[1,6,8]\n",
    "\n",
    "    d=a.symmetric_difference(b)\n",
    "print(d)\n",
    "\n",
    "sets()"
   ]
  },
  {
   "cell_type": "code",
   "execution_count": 21,
   "metadata": {},
   "outputs": [
    {
     "name": "stdout",
     "output_type": "stream",
     "text": [
      "hello python\n",
      "\n",
      "hello python_2\n"
     ]
    }
   ],
   "source": [
    "try:\n",
    "    with open('C:/Users/dell/Documents/PythonScripts/file_1','r')as fh:\n",
    "        #fh.write('hello python')\n",
    "        rd=fh.read()\n",
    "        print(rd)\n",
    "except Exception as Ex:\n",
    "    print('file read/write error')\n",
    "    "
   ]
  },
  {
   "cell_type": "code",
   "execution_count": 30,
   "metadata": {},
   "outputs": [
    {
     "name": "stdout",
     "output_type": "stream",
     "text": [
      "hello python\n",
      "\n",
      "hello python_2its workingits workingits workingits workingits working\n",
      "its working/nits working\n",
      "its working\n"
     ]
    }
   ],
   "source": [
    "with open('C:/Users/dell/Documents/PythonScripts/file_1','a') as f:\n",
    "    f.write('\\nits working')\n",
    "with open('C:/Users/dell/Documents/PythonScripts/file_1','r') as f:\n",
    "    mg=f.read()\n",
    "    print(mg)"
   ]
  },
  {
   "cell_type": "code",
   "execution_count": null,
   "metadata": {},
   "outputs": [],
   "source": [
    "print('what is the name')"
   ]
  },
  {
   "cell_type": "code",
   "execution_count": 4,
   "metadata": {},
   "outputs": [
    {
     "name": "stdout",
     "output_type": "stream",
     "text": [
      "I like \"Monty Python\"\n"
     ]
    }
   ],
   "source": [
    "print('I like \"Monty Python\"')"
   ]
  },
  {
   "cell_type": "code",
   "execution_count": 8,
   "metadata": {},
   "outputs": [
    {
     "name": "stdout",
     "output_type": "stream",
     "text": [
      "it is the wrong statement\n"
     ]
    }
   ],
   "source": [
    "#if (True<False):\n",
    "    print('its correct statement')\n",
    "else:#\n",
    "    print('it is the wrong statement')"
   ]
  },
  {
   "cell_type": "code",
   "execution_count": 10,
   "metadata": {},
   "outputs": [
    {
     "name": "stdout",
     "output_type": "stream",
     "text": [
      "None <class 'NoneType'>\n"
     ]
    }
   ],
   "source": [
    "a=None\n",
    "print(a,type(a))"
   ]
  },
  {
   "cell_type": "code",
   "execution_count": 20,
   "metadata": {},
   "outputs": [
    {
     "name": "stdout",
     "output_type": "stream",
     "text": [
      "enter any nameshehry\n"
     ]
    },
    {
     "ename": "ValueError",
     "evalue": "invalid literal for int() with base 10: 'shehry'",
     "output_type": "error",
     "traceback": [
      "\u001b[1;31m---------------------------------------------------------------------------\u001b[0m",
      "\u001b[1;31mValueError\u001b[0m                                Traceback (most recent call last)",
      "\u001b[1;32m<ipython-input-20-734b63f8567c>\u001b[0m in \u001b[0;36m<module>\u001b[1;34m\u001b[0m\n\u001b[1;32m----> 1\u001b[1;33m \u001b[0manything\u001b[0m \u001b[1;33m=\u001b[0m \u001b[0mint\u001b[0m\u001b[1;33m(\u001b[0m\u001b[0minput\u001b[0m\u001b[1;33m(\u001b[0m\u001b[1;34m'enter any name'\u001b[0m\u001b[1;33m)\u001b[0m\u001b[1;33m)\u001b[0m\u001b[1;33m\u001b[0m\u001b[1;33m\u001b[0m\u001b[0m\n\u001b[0m\u001b[0;32m      2\u001b[0m \u001b[1;31m#nm = int(anything)\u001b[0m\u001b[1;33m\u001b[0m\u001b[1;33m\u001b[0m\u001b[1;33m\u001b[0m\u001b[0m\n\u001b[0;32m      3\u001b[0m \u001b[1;31m#sq_rt = anything **2\u001b[0m\u001b[1;33m\u001b[0m\u001b[1;33m\u001b[0m\u001b[1;33m\u001b[0m\u001b[0m\n\u001b[0;32m      4\u001b[0m \u001b[0mprint\u001b[0m\u001b[1;33m(\u001b[0m\u001b[0manything\u001b[0m\u001b[1;33m)\u001b[0m\u001b[1;33m\u001b[0m\u001b[1;33m\u001b[0m\u001b[0m\n",
      "\u001b[1;31mValueError\u001b[0m: invalid literal for int() with base 10: 'shehry'"
     ]
    }
   ],
   "source": [
    "anything = int(input('enter any name'))\n",
    "#nm = int(anything)\n",
    "#sq_rt = anything **2\n",
    "print(anything)"
   ]
  },
  {
   "cell_type": "code",
   "execution_count": 21,
   "metadata": {},
   "outputs": [
    {
     "name": "stdout",
     "output_type": "stream",
     "text": [
      "3\n"
     ]
    }
   ],
   "source": [
    "print(3%4)"
   ]
  },
  {
   "cell_type": "code",
   "execution_count": null,
   "metadata": {},
   "outputs": [],
   "source": []
  }
 ],
 "metadata": {
  "kernelspec": {
   "display_name": "Python 3",
   "language": "python",
   "name": "python3"
  },
  "language_info": {
   "codemirror_mode": {
    "name": "ipython",
    "version": 3
   },
   "file_extension": ".py",
   "mimetype": "text/x-python",
   "name": "python",
   "nbconvert_exporter": "python",
   "pygments_lexer": "ipython3",
   "version": "3.8.5"
  }
 },
 "nbformat": 4,
 "nbformat_minor": 4
}
