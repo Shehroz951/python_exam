{
 "cells": [
  {
   "cell_type": "code",
   "execution_count": null,
   "metadata": {},
   "outputs": [],
   "source": [
    "def read_input():\n",
    "    nm=input('please enter the name')\n",
    "    print(nm) \n",
    "###\n",
    "read_input()"
   ]
  },
  {
   "cell_type": "code",
   "execution_count": 4,
   "metadata": {},
   "outputs": [
    {
     "ename": "KeyError",
     "evalue": "1",
     "output_type": "error",
     "traceback": [
      "\u001b[1;31m---------------------------------------------------------------------------\u001b[0m",
      "\u001b[1;31mKeyError\u001b[0m                                  Traceback (most recent call last)",
      "\u001b[1;32m<ipython-input-4-f924b3a3105c>\u001b[0m in \u001b[0;36m<module>\u001b[1;34m\u001b[0m\n\u001b[0;32m      4\u001b[0m     \u001b[1;34m\"KN\"\u001b[0m\u001b[1;33m:\u001b[0m\u001b[1;33m[\u001b[0m\u001b[1;34m'ab'\u001b[0m\u001b[1;33m,\u001b[0m\u001b[1;34m'ar'\u001b[0m\u001b[1;33m]\u001b[0m\u001b[1;33m\u001b[0m\u001b[1;33m\u001b[0m\u001b[0m\n\u001b[0;32m      5\u001b[0m }\n\u001b[1;32m----> 6\u001b[1;33m \u001b[0mdic\u001b[0m\u001b[1;33m.\u001b[0m\u001b[0mpop\u001b[0m\u001b[1;33m(\u001b[0m\u001b[1;36m1\u001b[0m\u001b[1;33m)\u001b[0m\u001b[1;33m\u001b[0m\u001b[1;33m\u001b[0m\u001b[0m\n\u001b[0m",
      "\u001b[1;31mKeyError\u001b[0m: 1"
     ]
    }
   ],
   "source": [
    "dic={\n",
    "    'zahid':['Shery','Sheroz',\"gula\"],\n",
    "    'Adeel':['azaan','Hasan'],\n",
    "    \"KN\":['ab','ar'] \n",
    "}\n",
    "dic.pop(1)"
   ]
  },
  {
   "cell_type": "code",
   "execution_count": 3,
   "metadata": {},
   "outputs": [
    {
     "name": "stdout",
     "output_type": "stream",
     "text": [
      "<class 'tuple'>\n"
     ]
    },
    {
     "data": {
      "text/plain": [
       "'talha'"
      ]
     },
     "execution_count": 3,
     "metadata": {},
     "output_type": "execute_result"
    }
   ],
   "source": [
    "\n",
    "\n",
    "lst1=['sami','talha']\n",
    "lst=('shehroz','khan','shehry')\n",
    "\n",
    "#lst2=lst[2]\n",
    "print(type(lst))\n",
    "lst1.pop(1)\n",
    "#print(lst1)\n"
   ]
  },
  {
   "cell_type": "code",
   "execution_count": 51,
   "metadata": {},
   "outputs": [
    {
     "name": "stdout",
     "output_type": "stream",
     "text": [
      "['khan shehroz']\n"
     ]
    }
   ],
   "source": [
    "fn=['khan']\n",
    "ln=['shehroz']\n",
    "fullname=[]\n",
    "for fname in fn:\n",
    "    for lname in ln:\n",
    "        fullname.append(fname +\" \"+lname)\n",
    "        print(fullname)\n",
    "    \n",
    "    "
   ]
  },
  {
   "cell_type": "code",
   "execution_count": 2,
   "metadata": {},
   "outputs": [
    {
     "name": "stdout",
     "output_type": "stream",
     "text": [
      "Shehroz\n"
     ]
    }
   ],
   "source": [
    "vl='shehroz'\n",
    "vl=vl.title()\n",
    "print(vl)"
   ]
  },
  {
   "cell_type": "code",
   "execution_count": 22,
   "metadata": {},
   "outputs": [
    {
     "name": "stdout",
     "output_type": "stream",
     "text": [
      "{'fn': 'shehroz', 'ln': 'khan', 'adrs': 'hfzbd', 'ht': 6, 'wt': 78, 'edu': 'bachelor'}\n",
      "key is fn and the value is shehroz\n",
      "key is ln and the value is khan\n",
      "key is adrs and the value is hfzbd\n",
      "key is ht and the value is 6\n",
      "key is wt and the value is 78\n",
      "key is edu and the value is bachelor\n"
     ]
    }
   ],
   "source": [
    "dct={'fn':'shehroz','ln':'khan','adrs':'hfzbd','ht':6,'wt':78}\n",
    "dct['edu']=('bachelor')\n",
    "print(dct)\n",
    "for kys,vls in dct.items():\n",
    "    print('key is',kys,'and the value is',vls)"
   ]
  },
  {
   "cell_type": "code",
   "execution_count": 1,
   "metadata": {},
   "outputs": [
    {
     "name": "stdout",
     "output_type": "stream",
     "text": [
      "[{'fn': 'shehroz', 'ln': 'khan', 'age': '23', 'edu': 'bachelors'}, {'jb': 'computer operater', 'pay': 35000}]\n"
     ]
    }
   ],
   "source": [
    "dct=[{\n",
    "    'fn':'shehroz', \n",
    "    'ln':'khan',\n",
    "    'age':'23',\n",
    "    'edu':'bachelors'\n",
    "}]\n",
    "dct1={\n",
    "    'jb':'computer operater',\n",
    "    'pay': 35000\n",
    "}\n",
    "dct.append(dct1)\n",
    "print(dct)"
   ]
  },
  {
   "cell_type": "code",
   "execution_count": null,
   "metadata": {},
   "outputs": [],
   "source": [
    "secret_number = 777\n",
    "nm = int(input('enter any num'))\n",
    "while nm>0:\n",
    "    if nm != secret_number:\n",
    "        print('ha ha! you are stuck in my loop!')\n",
    "    else:\n",
    "        print(nm)\n",
    "        print('''well done, muggle! you are free now''')\n",
    "        \n",
    "    nm = int(input('enter any num'))\n",
    "\n",
    "\n"
   ]
  },
  {
   "cell_type": "code",
   "execution_count": 3,
   "metadata": {},
   "outputs": [],
   "source": [
    "for i in range (2,1):\n",
    "    print('the value of i is ',i)"
   ]
  },
  {
   "cell_type": "code",
   "execution_count": 4,
   "metadata": {},
   "outputs": [
    {
     "name": "stdout",
     "output_type": "stream",
     "text": [
      "enter any wordapple\n",
      "P\n",
      "P\n",
      "L\n"
     ]
    }
   ],
   "source": [
    "word_without_vowels = \"\"\n",
    "\n",
    "usr_wrd = input('enter any word')\n",
    "usr_wrd = usr_wrd.upper()\n",
    "\n",
    "\n",
    "for letter in usr_wrd:\n",
    "   if letter == 'A':\n",
    "       continue\n",
    "   elif letter =='E':\n",
    "       continue\n",
    "        \n",
    "   elif letter =='I':\n",
    "       continue\n",
    "   \n",
    "   elif letter =='O':\n",
    "       continue\n",
    "   \n",
    "   \n",
    "   elif letter =='U':\n",
    "       continue\n",
    "   \n",
    "   word_without_vowels = letter\n",
    "   print(word_without_vowels)"
   ]
  },
  {
   "cell_type": "code",
   "execution_count": 9,
   "metadata": {},
   "outputs": [
    {
     "name": "stdout",
     "output_type": "stream",
     "text": [
      "9\n"
     ]
    }
   ],
   "source": [
    "lt = [3,5,7,2,6,4,1,9]\n",
    "lrgst_nm = lt[0]\n",
    "for i in range(1,len(lt)):\n",
    "    if lt[i]>lrgst_nm:\n",
    "        lrgst_nm = lt[i]\n",
    "print(lrgst_nm)\n",
    "\n"
   ]
  },
  {
   "cell_type": "code",
   "execution_count": 6,
   "metadata": {},
   "outputs": [
    {
     "ename": "AttributeError",
     "evalue": "'list' object has no attribute 'choice'",
     "output_type": "error",
     "traceback": [
      "\u001b[1;31m---------------------------------------------------------------------------\u001b[0m",
      "\u001b[1;31mAttributeError\u001b[0m                            Traceback (most recent call last)",
      "\u001b[1;32m<ipython-input-6-4a657f5aff89>\u001b[0m in \u001b[0;36m<module>\u001b[1;34m\u001b[0m\n\u001b[0;32m      1\u001b[0m \u001b[1;32mimport\u001b[0m \u001b[0mrandom\u001b[0m\u001b[1;33m\u001b[0m\u001b[1;33m\u001b[0m\u001b[0m\n\u001b[0;32m      2\u001b[0m \u001b[0msales\u001b[0m \u001b[1;33m=\u001b[0m \u001b[1;33m[\u001b[0m\u001b[1;36m250\u001b[0m\u001b[1;33m,\u001b[0m \u001b[1;36m380\u001b[0m\u001b[1;33m,\u001b[0m\u001b[1;36m190\u001b[0m\u001b[1;33m,\u001b[0m\u001b[1;36m230\u001b[0m\u001b[1;33m,\u001b[0m\u001b[1;36m420\u001b[0m\u001b[1;33m,\u001b[0m\u001b[1;36m340\u001b[0m\u001b[1;33m]\u001b[0m\u001b[1;33m\u001b[0m\u001b[1;33m\u001b[0m\u001b[0m\n\u001b[1;32m----> 3\u001b[1;33m \u001b[0msales\u001b[0m\u001b[1;33m.\u001b[0m\u001b[0mchoice\u001b[0m\u001b[1;33m(\u001b[0m\u001b[1;33m)\u001b[0m\u001b[1;33m\u001b[0m\u001b[1;33m\u001b[0m\u001b[0m\n\u001b[0m\u001b[0;32m      4\u001b[0m \u001b[0mprint\u001b[0m \u001b[1;33m(\u001b[0m\u001b[1;33m)\u001b[0m\u001b[1;33m\u001b[0m\u001b[1;33m\u001b[0m\u001b[0m\n",
      "\u001b[1;31mAttributeError\u001b[0m: 'list' object has no attribute 'choice'"
     ]
    }
   ],
   "source": [
    "import random\n",
    "sales = [250, 380,190,230,420,340]\n",
    "sales.choice()\n",
    "print ()\n"
   ]
  },
  {
   "cell_type": "code",
   "execution_count": 7,
   "metadata": {},
   "outputs": [
    {
     "ename": "SyntaxError",
     "evalue": "unexpected EOF while parsing (<ipython-input-7-8a12b332f0a5>, line 1)",
     "output_type": "error",
     "traceback": [
      "\u001b[1;36m  File \u001b[1;32m\"<ipython-input-7-8a12b332f0a5>\"\u001b[1;36m, line \u001b[1;32m1\u001b[0m\n\u001b[1;33m    with open('C:\\Users\\dell\\Documents\\PythonScripts', 'w') as xl:\u001b[0m\n\u001b[1;37m                                                                  ^\u001b[0m\n\u001b[1;31mSyntaxError\u001b[0m\u001b[1;31m:\u001b[0m unexpected EOF while parsing\n"
     ]
    }
   ],
   "source": [
    "with open('C:\\Users\\dell\\Documents\\PythonScripts', 'w') as xl:"
   ]
  },
  {
   "cell_type": "code",
   "execution_count": 2,
   "metadata": {},
   "outputs": [],
   "source": [
    "import sqlite3\n",
    "\n",
    "con = sqlite3.connect(\"shehroz_db.db\")"
   ]
  },
  {
   "cell_type": "code",
   "execution_count": 10,
   "metadata": {},
   "outputs": [
    {
     "ename": "NameError",
     "evalue": "name 'shehroz_db' is not defined",
     "output_type": "error",
     "traceback": [
      "\u001b[1;31m---------------------------------------------------------------------------\u001b[0m",
      "\u001b[1;31mNameError\u001b[0m                                 Traceback (most recent call last)",
      "\u001b[1;32m<ipython-input-10-352dd6ee5856>\u001b[0m in \u001b[0;36m<module>\u001b[1;34m\u001b[0m\n\u001b[0;32m      2\u001b[0m \u001b[0msql_text1\u001b[0m \u001b[1;33m=\u001b[0m \u001b[1;34m'insert into shehroz_movies values(1, \\'3 idiots\\')'\u001b[0m\u001b[1;33m\u001b[0m\u001b[1;33m\u001b[0m\u001b[0m\n\u001b[0;32m      3\u001b[0m \u001b[0msql_text2\u001b[0m \u001b[1;33m=\u001b[0m \u001b[1;34m'insert into shehroz_movies values(1, \\'3 idiots\\')'\u001b[0m\u001b[1;33m\u001b[0m\u001b[1;33m\u001b[0m\u001b[0m\n\u001b[1;32m----> 4\u001b[1;33m \u001b[0mcon\u001b[0m\u001b[1;33m.\u001b[0m\u001b[0mexecute\u001b[0m\u001b[1;33m(\u001b[0m\u001b[0mshehroz_db\u001b[0m\u001b[1;33m)\u001b[0m\u001b[1;33m\u001b[0m\u001b[1;33m\u001b[0m\u001b[0m\n\u001b[0m",
      "\u001b[1;31mNameError\u001b[0m: name 'shehroz_db' is not defined"
     ]
    }
   ],
   "source": [
    "sql_text0 = 'create table shehroz_movies(id integer,movie_name text)'\n",
    "sql_text1 = 'insert into shehroz_movies values(1, \\'3 idiots\\')'\n",
    "sql_text2 = 'insert into shehroz_movies values(1, \\'3 idiots\\')'\n",
    "con.execute(shehroz_db.)"
   ]
  },
  {
   "cell_type": "code",
   "execution_count": 1,
   "metadata": {},
   "outputs": [],
   "source": [
    "import sqlite3\n",
    "import pandas as pd\n",
    "con = sqlite3.connect('Employee_db.db')"
   ]
  },
  {
   "cell_type": "code",
   "execution_count": 13,
   "metadata": {},
   "outputs": [
    {
     "data": {
      "text/html": [
       "<div>\n",
       "<style scoped>\n",
       "    .dataframe tbody tr th:only-of-type {\n",
       "        vertical-align: middle;\n",
       "    }\n",
       "\n",
       "    .dataframe tbody tr th {\n",
       "        vertical-align: top;\n",
       "    }\n",
       "\n",
       "    .dataframe thead th {\n",
       "        text-align: right;\n",
       "    }\n",
       "</style>\n",
       "<table border=\"1\" class=\"dataframe\">\n",
       "  <thead>\n",
       "    <tr style=\"text-align: right;\">\n",
       "      <th></th>\n",
       "      <th>id</th>\n",
       "      <th>name</th>\n",
       "      <th>address</th>\n",
       "      <th>salary</th>\n",
       "    </tr>\n",
       "  </thead>\n",
       "  <tbody>\n",
       "    <tr>\n",
       "      <th>0</th>\n",
       "      <td>101</td>\n",
       "      <td>shehry</td>\n",
       "      <td>LHR</td>\n",
       "      <td>25000</td>\n",
       "    </tr>\n",
       "    <tr>\n",
       "      <th>1</th>\n",
       "      <td>102</td>\n",
       "      <td>shehroz</td>\n",
       "      <td>FSD</td>\n",
       "      <td>35000</td>\n",
       "    </tr>\n",
       "    <tr>\n",
       "      <th>2</th>\n",
       "      <td>103</td>\n",
       "      <td>talha</td>\n",
       "      <td>HFZ</td>\n",
       "      <td>45000</td>\n",
       "    </tr>\n",
       "    <tr>\n",
       "      <th>3</th>\n",
       "      <td>104</td>\n",
       "      <td>sami</td>\n",
       "      <td>ISLB</td>\n",
       "      <td>5000</td>\n",
       "    </tr>\n",
       "    <tr>\n",
       "      <th>4</th>\n",
       "      <td>105</td>\n",
       "      <td>zohaib</td>\n",
       "      <td>RWP</td>\n",
       "      <td>30000</td>\n",
       "    </tr>\n",
       "  </tbody>\n",
       "</table>\n",
       "</div>"
      ],
      "text/plain": [
       "    id     name address  salary\n",
       "0  101   shehry     LHR   25000\n",
       "1  102  shehroz     FSD   35000\n",
       "2  103    talha     HFZ   45000\n",
       "3  104     sami    ISLB    5000\n",
       "4  105   zohaib     RWP   30000"
      ]
     },
     "execution_count": 13,
     "metadata": {},
     "output_type": "execute_result"
    }
   ],
   "source": [
    "#tbl = 'create table Information(id int, name varchar, address varchar, salary int)'\n",
    "#data1 = 'insert into Information(id , name, address, salary) values(101, \"shehry\", \"LHR\", 25000)'\n",
    "#data2 = 'insert into Information(id , name, address, salary) values(102, \"shehroz\", \"FSD\", 35000)'\n",
    "#data3 = 'insert into Information(id , name, address, salary) values(103, \"talha\", \"HFZ\", 45000)'\n",
    "#data4 = 'insert into Information(id , name, address, salary) values(104, \"sami\", \"ISLB\", 5000)'\n",
    "#data5 = 'insert into Information(id , name, address, salary) values(105, \"zohaib\", \"RWP\", 30000)'\n",
    "#con.execute(tbl)\n",
    "#con.execute(data1)\n",
    "#con.execute(data2)\n",
    "#con.execute(data3)\n",
    "#con.execute(data4)\n",
    "#con.execute(data5)\n",
    "#con.commit()\n",
    "df = pd.read_sql_query('SELECT * FROM Information',con)\n",
    "df.set_index('id')\n",
    "#df.head(2)\n",
    "#df.tail(3)\n",
    "#df.shape\n",
    "#df.info\n",
    "temp_df = df.append(df)\n",
    "temp_df =temp_df.drop_duplicates()\n",
    "temp_df"
   ]
  },
  {
   "cell_type": "code",
   "execution_count": null,
   "metadata": {},
   "outputs": [],
   "source": []
  }
 ],
 "metadata": {
  "kernelspec": {
   "display_name": "Python 3",
   "language": "python",
   "name": "python3"
  },
  "language_info": {
   "codemirror_mode": {
    "name": "ipython",
    "version": 3
   },
   "file_extension": ".py",
   "mimetype": "text/x-python",
   "name": "python",
   "nbconvert_exporter": "python",
   "pygments_lexer": "ipython3",
   "version": "3.8.5"
  }
 },
 "nbformat": 4,
 "nbformat_minor": 4
}
